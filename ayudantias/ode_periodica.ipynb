{
  "cells": [
    {
      "cell_type": "markdown",
      "id": "1eccf0c3",
      "metadata": {
        "id": "1eccf0c3"
      },
      "source": [
        "\n",
        "# Solución de una Ecuación Diferencial Ordinaria Periódica\n",
        "\n",
        "Consideramos el problema:\n",
        "\n",
        "$$\n",
        "y''(x) = f(x), \\quad y(x + 0) = y(x + 2\\pi)\n",
        "$$\n",
        "\n",
        "donde buscamos una **solución periódica** en el intervalo $[0, 2\\pi]$.\n"
      ]
    },
    {
      "cell_type": "markdown",
      "id": "373910ce",
      "metadata": {},
      "source": [
        "- **(a)** Proponga un algoritmo basado en diferencias finitas que obtenga una aproximación numerica de y(x).\n",
        "- **(b)** ¿Existe alguna condición adicional que se necesite imponer? ¿Es única la solución?\n",
        "- **(c)** ¿Es posible asegurar que el máximo de la aproximación sea 1? Si fuera posible, explique cómo lo obtendrá.\n",
        "- **(d)** ¿Es posible asegurar que la integral de la aproximación en [0, 2 π] sea 0? Si fuera posible, explique cómo lo obtendrá"
      ]
    },
    {
      "cell_type": "markdown",
      "id": "70b18cfa",
      "metadata": {
        "id": "70b18cfa"
      },
      "source": [
        "\n",
        "## Forma matricial del sistema de ecuaciones para $N = 5$ a modo de ejemplo\n",
        "\n",
        "Recordemos que aplicamos diferencias finitas con condiciones **periódicas** para aproximar la ecuación:\n",
        "\n",
        "$$\n",
        "y''(x) = f(x), \\quad \text{con} \\quad y(x + 2\\pi) = y(x)\n",
        "$$\n",
        "\n",
        "Para $N = 5$ nodos, el sistema resultante tiene la forma:\n",
        "\n",
        "$$\n",
        "\\begin{aligned}\n",
        "\\frac{y_1 - 2y_0 + y_4}{h^2} &= f_0 \\\\\n",
        "\\frac{y_2 - 2y_1 + y_0}{h^2} &= f_1 \\\\\n",
        "\\frac{y_3 - 2y_2 + y_1}{h^2} &= f_2 \\\\\n",
        "\\frac{y_4 - 2y_3 + y_2}{h^2} &= f_3 \\\\\n",
        "\\frac{y_0 - 2y_4 + y_3}{h^2} &= f_4\n",
        "\\end{aligned}\n",
        "$$\n",
        "\n",
        "Multiplicando ambos lados por $h^2$, obtenemos el sistema lineal:\n",
        "\n",
        "$$\n",
        "\\begin{bmatrix}\n",
        "-2 & 1 & 0 & 0 & 1 \\\\\n",
        "1 & -2 & 1 & 0 & 0 \\\\\n",
        "0 & 1 & -2 & 1 & 0 \\\\\n",
        "0 & 0 & 1 & -2 & 1 \\\\\n",
        "1 & 0 & 0 & 1 & -2 \\\\\n",
        "\\end{bmatrix}\n",
        "\\begin{bmatrix}\n",
        "y_0 \\\\\n",
        "y_1 \\\\\n",
        "y_2 \\\\\n",
        "y_3 \\\\\n",
        "y_4 \\\\\n",
        "\\end{bmatrix}\n",
        "=\n",
        "h^2 \\cdot\n",
        "\\begin{bmatrix}\n",
        "f_0 \\\\\n",
        "f_1 \\\\\n",
        "f_2 \\\\\n",
        "f_3 \\\\\n",
        "f_4 \\\\\n",
        "\\end{bmatrix}\n",
        "$$\n",
        "\n",
        "Esta matriz es **simétrica**, **tridiagonal cíclica** y refleja correctamente las condiciones periódicas.\n",
        "\n",
        "Podemos escribir este sistema como:\n",
        "\n",
        "$$\n",
        "A \\cdot \\vec{y} = h^2 \\cdot \\vec{f}\n",
        "$$\n",
        "\n",
        "Y luego resolver con algunos de los metodos ya conocidos."
      ]
    },
    {
      "cell_type": "markdown",
      "id": "b03bc877",
      "metadata": {},
      "source": [
        "\n",
        "## Análisis de las preguntas\n",
        "\n",
        "- **(a)** Se usa diferencias finitas con condiciones periódicas.\n",
        "- **(b)** Se requiere que $ \\int_0^{2\\pi} f(x) dx = 0 $ para que exista solución periódica.\n",
        "- **(c)** Podemos escalar la solución para que su máximo sea 1.\n",
        "- **(d)** Podemos restar una constante para que su integral en $[0, 2\\pi]$ sea 0.\n"
      ]
    }
  ],
  "metadata": {
    "colab": {
      "provenance": []
    },
    "kernelspec": {
      "display_name": "Python 3",
      "name": "python3"
    },
    "language_info": {
      "name": "python"
    }
  },
  "nbformat": 4,
  "nbformat_minor": 5
}
